{
 "cells": [
  {
   "cell_type": "markdown",
   "metadata": {},
   "source": ["# PySpark Best Practices"]
  },
  {
   "cell_type": "code",
   "execution_count": 1,
   "metadata": {},
   "outputs": [],
   "source": ["from pyspark.sql import SparkSession
",
              "spark = SparkSession.builder.appName('BestPractices').getOrCreate()
",
              "print(spark)"]
  }
 ],
 "metadata": {},
 "nbformat": 4,
 "nbformat_minor": 4
}