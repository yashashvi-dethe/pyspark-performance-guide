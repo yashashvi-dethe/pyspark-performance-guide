{
 "cells": [
  {
   "cell_type": "markdown",
   "metadata": {},
   "source": ["# Data Cleaning in PySpark"]
  },
  {
   "cell_type": "code",
   "execution_count": 3,
   "metadata": {},
   "outputs": [],
   "source": ["from pyspark.sql.functions import col
",
              "df_cleaned = df.dropna().filter(col('age') > 18)
",
              "df_cleaned.show()"]
  }
 ],
 "metadata": {},
 "nbformat": 4,
 "nbformat_minor": 4
}