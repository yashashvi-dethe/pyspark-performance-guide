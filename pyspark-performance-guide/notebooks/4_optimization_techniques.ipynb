{
 "cells": [
  {
   "cell_type": "markdown",
   "metadata": {},
   "source": ["# Optimization Techniques in PySpark"]
  },
  {
   "cell_type": "code",
   "execution_count": 4,
   "metadata": {},
   "outputs": [],
   "source": ["df = df.repartition(10)
",
              "df.cache()
",
              "df.show()"]
  }
 ],
 "metadata": {},
 "nbformat": 4,
 "nbformat_minor": 4
}