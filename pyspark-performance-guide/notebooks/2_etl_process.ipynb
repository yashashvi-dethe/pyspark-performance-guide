{
 "cells": [
  {
   "cell_type": "markdown",
   "metadata": {},
   "source": ["# ETL Process in PySpark"]
  },
  {
   "cell_type": "code",
   "execution_count": 2,
   "metadata": {},
   "outputs": [],
   "source": ["from pyspark.sql import SparkSession
",
              "spark = SparkSession.builder.appName('ETLProcess').getOrCreate()
",
              "df = spark.read.csv('data/sample.csv', header=True, inferSchema=True)
",
              "df.show()"]
  }
 ],
 "metadata": {},
 "nbformat": 4,
 "nbformat_minor": 4
}