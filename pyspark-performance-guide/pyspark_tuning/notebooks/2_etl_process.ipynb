{
 "cells": [
  {
   "cell_type": "markdown",
   "metadata": {},
   "source": ["# ETL Process in PySpark"]
  }
 ],
 "metadata": {},
 "nbformat": 4,
 "nbformat_minor": 4
}